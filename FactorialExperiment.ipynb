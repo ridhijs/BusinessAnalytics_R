{
  "cells": [
    {
      "metadata": {
        "trusted": true
      },
      "cell_type": "code",
      "source": "iron1 <- read.csv('Datasets/iron.csv')",
      "execution_count": 6,
      "outputs": [
        {
          "output_type": "error",
          "ename": "ERROR",
          "evalue": "Error in type.convert.default(data[[i]], as.is = as.is[i], dec = dec, : invalid multibyte string at '<a0><a0><a0>'\n",
          "traceback": [
            "Error in type.convert.default(data[[i]], as.is = as.is[i], dec = dec, : invalid multibyte string at '<a0><a0><a0>'\nTraceback:\n",
            "1. read.csv(\"Datasets/iron.csv\")",
            "2. read.table(file = file, header = header, sep = sep, quote = quote, \n .     dec = dec, fill = fill, comment.char = comment.char, ...)",
            "3. type.convert(data[[i]], as.is = as.is[i], dec = dec, numerals = numerals, \n .     na.strings = character(0L))",
            "4. type.convert.default(data[[i]], as.is = as.is[i], dec = dec, \n .     numerals = numerals, na.strings = character(0L))"
          ]
        }
      ]
    },
    {
      "metadata": {
        "trusted": true
      },
      "cell_type": "code",
      "source": "iron <- reshape(iron1,varying=list(2:4),direction='long')\nView(iron)",
      "execution_count": null,
      "outputs": []
    }
  ],
  "metadata": {
    "kernelspec": {
      "name": "r",
      "display_name": "R",
      "language": "R"
    }
  },
  "nbformat": 4,
  "nbformat_minor": 2
}